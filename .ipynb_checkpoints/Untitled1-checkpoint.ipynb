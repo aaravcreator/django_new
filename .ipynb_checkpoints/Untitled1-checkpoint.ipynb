{
 "cells": [
  {
   "cell_type": "code",
   "execution_count": 2,
   "id": "34073d60-5429-4b59-9f2d-fdcdcfd7eb7e",
   "metadata": {},
   "outputs": [
    {
     "name": "stdout",
     "output_type": "stream",
     "text": [
      "EHLLO\n"
     ]
    }
   ],
   "source": [
    "print(\"EHLLO\")"
   ]
  },
  {
   "cell_type": "code",
   "execution_count": 13,
   "id": "d854989b-8ba9-402f-87ee-ec7a12d3813c",
   "metadata": {},
   "outputs": [
    {
     "name": "stdout",
     "output_type": "stream",
     "text": [
      "1\n",
      "hello N/A, POUDEL\n"
     ]
    }
   ],
   "source": [
    "def greet_me(a,lname,fname=\"N/A\"):\n",
    "    print(a)\n",
    "    print(f\"hello {fname}, {lname}\")\n",
    "    \n",
    "greet_me(1,lname=\"POUDEL\")\n",
    "\n",
    "\n",
    "\n"
   ]
  },
  {
   "cell_type": "code",
   "execution_count": 17,
   "id": "f8172a6b-6b72-408c-801a-7079d44ef914",
   "metadata": {},
   "outputs": [
    {
     "name": "stdout",
     "output_type": "stream",
     "text": [
      "RESULT IS NEGATIVE  -2\n"
     ]
    }
   ],
   "source": [
    "def cal_diff(a,b):\n",
    "    result = a-b\n",
    "    if result < 0:\n",
    "        return result, True\n",
    "    return result, False \n",
    "\n",
    "result, negative = cal_diff(1,3)\n",
    "if negative:\n",
    "    print(\"RESULT IS NEGATIVE \" ,result)\n",
    "else:\n",
    "    print(\"RESULT IS NORMAL \" ,result)\n",
    "\n"
   ]
  },
  {
   "cell_type": "code",
   "execution_count": 18,
   "id": "34edf04a-2c7f-413f-bdf5-74c2a29b80cb",
   "metadata": {},
   "outputs": [
    {
     "name": "stdout",
     "output_type": "stream",
     "text": [
      "10\n"
     ]
    }
   ],
   "source": [
    "double  = lambda a:a*2\n",
    "print(double(5))"
   ]
  },
  {
   "cell_type": "code",
   "execution_count": 19,
   "id": "d3c9f4de-ff7a-4342-9548-6d20ad63d5c8",
   "metadata": {},
   "outputs": [
    {
     "name": "stdout",
     "output_type": "stream",
     "text": [
      "[3, 5, 5, 7, 11, 22, 23, 53]\n"
     ]
    }
   ],
   "source": [
    "my_numbers  = [22,23,5,11,5,53,3,7]\n",
    "\n",
    "my_numbers.sort(reverse=True)\n",
    "print(my_numbers)"
   ]
  }
 ],
 "metadata": {
  "kernelspec": {
   "display_name": "Python 3 (ipykernel)",
   "language": "python",
   "name": "python3"
  },
  "language_info": {
   "codemirror_mode": {
    "name": "ipython",
    "version": 3
   },
   "file_extension": ".py",
   "mimetype": "text/x-python",
   "name": "python",
   "nbconvert_exporter": "python",
   "pygments_lexer": "ipython3",
   "version": "3.9.6"
  }
 },
 "nbformat": 4,
 "nbformat_minor": 5
}
